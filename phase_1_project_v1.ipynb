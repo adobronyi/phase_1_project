{
 "cells": [
  {
   "cell_type": "markdown",
   "metadata": {},
   "source": [
    "## Introduction\n",
    "\n"
   ]
  },
  {
   "cell_type": "code",
   "execution_count": 78,
   "metadata": {},
   "outputs": [],
   "source": [
    "# import packages\n",
    "import pandas as pd\n",
    "import numpy as np\n",
    "import re\n",
    "import matplotlib.pyplot as plt"
   ]
  },
  {
   "cell_type": "code",
   "execution_count": 74,
   "metadata": {},
   "outputs": [],
   "source": [
    "# read in csv files\n",
    "movie_gross = pd.read_csv('bom.movie_gross.csv')\n",
    "movie_info = pd.read_csv('rt.movie_info.tsv',sep='\\t')\n",
    "movies = pd.read_csv('tmdb.movies.csv')\n",
    "movie_budgets = pd.read_csv('tn.movie_budgets.csv')"
   ]
  },
  {
   "cell_type": "code",
   "execution_count": 75,
   "metadata": {},
   "outputs": [],
   "source": [
    "# look at movie_budgets in greater detail\n",
    "movie_budgets['production_budget'] = movie_budgets['production_budget'].str.strip('$')\n",
    "movie_budgets['production_budget'] = movie_budgets['production_budget'].map(lambda x : re.sub(',','',x))\n",
    "movie_budgets['production_budget'] = movie_budgets['production_budget'].astype(int)\n",
    "\n",
    "movie_budgets['domestic_gross'] = movie_budgets['domestic_gross'].str.strip('$')\n",
    "movie_budgets['domestic_gross'] = movie_budgets['domestic_gross'].map(lambda x : re.sub(',','',x))\n",
    "movie_budgets['domestic_gross'] = movie_budgets['domestic_gross'].astype(int)\n",
    "\n",
    "movie_budgets['worldwide_gross'] = movie_budgets['worldwide_gross'].str.strip('$')\n",
    "movie_budgets['worldwide_gross'] = movie_budgets['worldwide_gross'].map(lambda x : re.sub(',','',x))\n",
    "movie_budgets['worldwide_gross'] = movie_budgets['worldwide_gross'].astype(int)\n",
    "\n",
    "movie_budgets['domestic_roi'] = movie_budgets['domestic_gross'] / movie_budgets['production_budget']\n",
    "movie_budgets['worldwide_roi'] = movie_budgets['worldwide_gross'] / movie_budgets['production_budget']"
   ]
  },
  {
   "cell_type": "code",
   "execution_count": 89,
   "metadata": {},
   "outputs": [
    {
     "data": {
      "text/plain": [
       "0.0"
      ]
     },
     "execution_count": 89,
     "metadata": {},
     "output_type": "execute_result"
    }
   ],
   "source": [
    "(movie_budgets['domestic_roi']).min()"
   ]
  },
  {
   "cell_type": "code",
   "execution_count": 82,
   "metadata": {},
   "outputs": [
    {
     "data": {
      "text/plain": [
       "(array([5.768e+03, 9.000e+00, 4.000e+00, 0.000e+00, 0.000e+00, 0.000e+00,\n",
       "        0.000e+00, 0.000e+00, 0.000e+00, 1.000e+00]),\n",
       " array([   0.,  180.,  360.,  540.,  720.,  900., 1080., 1260., 1440.,\n",
       "        1620., 1800.]),\n",
       " <BarContainer object of 10 artists>)"
      ]
     },
     "execution_count": 82,
     "metadata": {},
     "output_type": "execute_result"
    },
    {
     "data": {
      "image/png": "[encoded data removed]",
      "text/plain": [
       "<Figure size 432x288 with 1 Axes>"
      ]
     },
     "metadata": {
      "needs_background": "light"
     },
     "output_type": "display_data"
    }
   ],
   "source": [
    "fig, ax = plt.subplots()\n",
    "ax.hist(movie_budgets['worldwide_roi'],bins=10)"
   ]
  }
 ],
 "metadata": {
  "kernelspec": {
   "display_name": "Python (learn-env)",
   "language": "python",
   "name": "learn-env"
  },
  "language_info": {
   "codemirror_mode": {
    "name": "ipython",
    "version": 3
   },
   "file_extension": ".py",
   "mimetype": "text/x-python",
   "name": "python",
   "nbconvert_exporter": "python",
   "pygments_lexer": "ipython3",
   "version": "3.8.5"
  }
 },
 "nbformat": 4,
 "nbformat_minor": 4
}
